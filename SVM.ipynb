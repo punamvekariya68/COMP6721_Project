{
  "nbformat": 4,
  "nbformat_minor": 0,
  "metadata": {
    "colab": {
      "provenance": [],
      "authorship_tag": "ABX9TyO0QcOh2OXJKXe0D12f8Np4",
      "include_colab_link": true
    },
    "kernelspec": {
      "name": "python3",
      "display_name": "Python 3"
    },
    "language_info": {
      "name": "python"
    }
  },
  "cells": [
    {
      "cell_type": "markdown",
      "metadata": {
        "id": "view-in-github",
        "colab_type": "text"
      },
      "source": [
        "<a href=\"https://colab.research.google.com/github/punamvekariya68/COMP6721_Project/blob/main/SVM.ipynb\" target=\"_parent\"><img src=\"https://colab.research.google.com/assets/colab-badge.svg\" alt=\"Open In Colab\"/></a>"
      ]
    },
    {
      "cell_type": "code",
      "execution_count": null,
      "metadata": {
        "id": "rQDsXeLeg1gg"
      },
      "outputs": [],
      "source": [
        "import os\n",
        "import numpy as np\n",
        "from PIL import Image, ImageOps, ImageEnhance\n",
        "from skimage.feature import hog, graycomatrix, graycoprops\n",
        "from skimage.color import rgb2gray\n",
        "from sklearn.model_selection import train_test_split\n",
        "from sklearn.preprocessing import StandardScaler\n",
        "from sklearn.feature_selection import SelectKBest, f_classif\n",
        "from sklearn.metrics import classification_report, confusion_matrix, accuracy_score\n",
        "import matplotlib.pyplot as plt"
      ]
    },
    {
      "cell_type": "code",
      "source": [
        "#Step 1: Load Dataset\n",
        "base_dir = \"Training_Resize\"\n",
        "categories = ['library', 'museum', 'shopping_mall']\n",
        "img_size = (64, 64)\n",
        "\n",
        "X = []\n",
        "y = []\n",
        "\n",
        "for label, category in enumerate(categories):\n",
        "    folder = os.path.join(base_dir, category)\n",
        "    for filename in os.listdir(folder):\n",
        "        if filename.lower().endswith((\".jpg\", \".jpeg\", \".png\")):\n",
        "            img_path = os.path.join(folder, filename)\n",
        "            img = Image.open(img_path).convert(\"RGB\").resize(img_size)\n",
        "            X.append(np.array(img))\n",
        "            y.append(label)\n",
        "\n",
        "X = np.array(X)\n",
        "y = np.array(y)\n",
        "print(f\"Loaded {len(X)} total images.\")"
      ],
      "metadata": {
        "id": "WvnWnekXhOYY"
      },
      "execution_count": null,
      "outputs": []
    }
  ]
}